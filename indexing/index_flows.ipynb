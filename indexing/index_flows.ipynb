{
 "cells": [
  {
   "cell_type": "markdown",
   "source": [
    "## Paul graham essay indexing"
   ],
   "metadata": {
    "collapsed": false
   }
  },
  {
   "cell_type": "code",
   "execution_count": 1,
   "outputs": [],
   "source": [
    "from indexing.components.loaders import ChunkParser, get_paul_graham_documents\n",
    "from indexing.components.data_stores import ElasticSearchVectorStoreModule\n",
    "\n",
    "INDEX_NAME = \"paul_graham\"\n",
    "\n",
    "documents = get_paul_graham_documents(\"data/paul_graham\")\n",
    "nodes = ChunkParser(documents).base_parse()"
   ],
   "metadata": {
    "collapsed": false
   }
  },
  {
   "cell_type": "code",
   "execution_count": 7,
   "outputs": [
    {
     "data": {
      "text/plain": "(1, 83)"
     },
     "execution_count": 7,
     "metadata": {},
     "output_type": "execute_result"
    }
   ],
   "source": [
    "len(documents), len(nodes)"
   ],
   "metadata": {
    "collapsed": false
   }
  },
  {
   "cell_type": "code",
   "execution_count": 11,
   "outputs": [
    {
     "data": {
      "text/plain": "(dict_keys(['id_', 'embedding', 'metadata', 'excluded_embed_metadata_keys', 'excluded_llm_metadata_keys', 'relationships', 'text', 'start_char_idx', 'end_char_idx', 'text_template', 'metadata_template', 'metadata_seperator', 'class_name']),\n dict_keys(['id_', 'embedding', 'metadata', 'excluded_embed_metadata_keys', 'excluded_llm_metadata_keys', 'relationships', 'text', 'start_char_idx', 'end_char_idx', 'text_template', 'metadata_template', 'metadata_seperator', 'class_name']))"
     },
     "execution_count": 11,
     "metadata": {},
     "output_type": "execute_result"
    }
   ],
   "source": [
    "documents[0].dict().keys(), nodes[0].dict().keys()"
   ],
   "metadata": {
    "collapsed": false
   }
  },
  {
   "cell_type": "code",
   "execution_count": null,
   "outputs": [],
   "source": [
    "ElasticSearchVectorStoreModule(index_name=INDEX_NAME).add_nodes(nodes)"
   ],
   "metadata": {
    "collapsed": false
   }
  },
  {
   "cell_type": "markdown",
   "source": [
    "## Survey paper indexing"
   ],
   "metadata": {
    "collapsed": false
   }
  },
  {
   "cell_type": "code",
   "execution_count": 12,
   "outputs": [],
   "source": [
    "from enum import Enum\n",
    "from pprint import pp\n",
    "\n",
    "\n",
    "class PaperPathEnum(str, Enum):\n",
    "    rag = \"data/papers/rag_survey.pdf\"\n",
    "    eval = \"data/papers/eval_survey.pdf\"\n",
    "\n",
    "\n",
    "INDEX_NAME = \"papers\""
   ],
   "metadata": {
    "collapsed": false
   }
  },
  {
   "cell_type": "code",
   "execution_count": 13,
   "outputs": [],
   "source": [
    "from llama_index.readers.smart_pdf_loader import SmartPDFLoader\n",
    "\n",
    "llmsherpa_api_url = \"https://readers.llmsherpa.com/api/document/developer/parseDocument?renderFormat=all\"\n",
    "pdf_url = \"https://arxiv.org/abs/2312.10997\"\n",
    "\n",
    "paper_documents = {\n",
    "    PaperPathEnum.rag: [],\n",
    "    PaperPathEnum.eval: []\n",
    "}\n",
    "\n",
    "pdf_loader = SmartPDFLoader(llmsherpa_api_url=llmsherpa_api_url)\n",
    "\n",
    "for key in paper_documents:\n",
    "    paper_documents[key] = pdf_loader.load_data(pdf_path_or_url=key)"
   ],
   "metadata": {
    "collapsed": false
   }
  },
  {
   "cell_type": "code",
   "execution_count": 16,
   "outputs": [
    {
     "data": {
      "text/plain": "146"
     },
     "execution_count": 16,
     "metadata": {},
     "output_type": "execute_result"
    }
   ],
   "source": [
    "len(paper_documents[PaperPathEnum.rag])"
   ],
   "metadata": {
    "collapsed": false
   }
  },
  {
   "cell_type": "code",
   "execution_count": 17,
   "outputs": [
    {
     "data": {
      "text/plain": "160"
     },
     "execution_count": 17,
     "metadata": {},
     "output_type": "execute_result"
    }
   ],
   "source": [
    "len(paper_documents[PaperPathEnum.eval])"
   ],
   "metadata": {
    "collapsed": false
   }
  },
  {
   "cell_type": "code",
   "execution_count": 18,
   "outputs": [
    {
     "name": "stdout",
     "output_type": "stream",
     "text": [
      "{'id_': '972e47b1-1d72-435a-bffa-158757028fd5',\n",
      " 'embedding': None,\n",
      " 'metadata': {'chunk_type': 'para'},\n",
      " 'excluded_embed_metadata_keys': [],\n",
      " 'excluded_llm_metadata_keys': [],\n",
      " 'relationships': {},\n",
      " 'text': 'Retrieval-Augmented Generation for Large Language Models: A Survey\\n'\n",
      "         'Yunfan Gaoa, Yun Xiongb, Xinyu Gaob, Kangxiang Jiab, Jinliu Panb, '\n",
      "         'Yuxi Bic, Yi Daia, Jiawei Suna, Meng Wangc, and Haofen Wang a,c',\n",
      " 'start_char_idx': None,\n",
      " 'end_char_idx': None,\n",
      " 'text_template': '{metadata_str}\\n\\n{content}',\n",
      " 'metadata_template': '{key}: {value}',\n",
      " 'metadata_seperator': '\\n',\n",
      " 'class_name': 'Document'}\n"
     ]
    }
   ],
   "source": [
    "pp(paper_documents[PaperPathEnum.rag][0].dict())"
   ],
   "metadata": {
    "collapsed": false
   }
  },
  {
   "cell_type": "code",
   "execution_count": 20,
   "outputs": [
    {
     "name": "stdout",
     "output_type": "stream",
     "text": [
      "{'id_': 'ab34c5d6-ac0b-46d1-8870-78d073cfe91e',\n",
      " 'embedding': None,\n",
      " 'metadata': {'chunk_type': 'para'},\n",
      " 'excluded_embed_metadata_keys': [],\n",
      " 'excluded_llm_metadata_keys': [],\n",
      " 'relationships': {},\n",
      " 'text': '\\n'\n",
      "         'Evaluation of Retrieval-Augmented Generation: A Survey Hao Yu1,2, '\n",
      "         'Aoran Gan3, Kai Zhang3, Shiwei Tong1†, Qi Liu3, and Zhaofeng Liu1',\n",
      " 'start_char_idx': None,\n",
      " 'end_char_idx': None,\n",
      " 'text_template': '{metadata_str}\\n\\n{content}',\n",
      " 'metadata_template': '{key}: {value}',\n",
      " 'metadata_seperator': '\\n',\n",
      " 'class_name': 'Document'}\n"
     ]
    }
   ],
   "source": [
    "pp(paper_documents[PaperPathEnum.eval][0].dict())"
   ],
   "metadata": {
    "collapsed": false
   }
  },
  {
   "cell_type": "code",
   "execution_count": 23,
   "outputs": [
    {
     "data": {
      "text/plain": "{'list_item', 'para', 'table'}"
     },
     "execution_count": 23,
     "metadata": {},
     "output_type": "execute_result"
    }
   ],
   "source": [
    "set([item.dict()['metadata']['chunk_type'] for item in paper_documents[PaperPathEnum.rag]])"
   ],
   "metadata": {
    "collapsed": false
   }
  },
  {
   "cell_type": "code",
   "execution_count": 24,
   "outputs": [],
   "source": [
    "import nest_asyncio\n",
    "nest_asyncio.apply()"
   ],
   "metadata": {
    "collapsed": false
   }
  },
  {
   "cell_type": "code",
   "execution_count": 25,
   "outputs": [
    {
     "data": {
      "text/plain": "Parsing nodes:   0%|          | 0/146 [00:00<?, ?it/s]",
      "application/vnd.jupyter.widget-view+json": {
       "version_major": 2,
       "version_minor": 0,
       "model_id": "66780e74aefa4b879c467eeb492b7453"
      }
     },
     "metadata": {},
     "output_type": "display_data"
    },
    {
     "data": {
      "text/plain": "Generating embeddings:   0%|          | 0/151 [00:00<?, ?it/s]",
      "application/vnd.jupyter.widget-view+json": {
       "version_major": 2,
       "version_minor": 0,
       "model_id": "70468d84553643fcb4be7cb1ae3d25fb"
      }
     },
     "metadata": {},
     "output_type": "display_data"
    },
    {
     "data": {
      "text/plain": "Parsing nodes:   0%|          | 0/160 [00:00<?, ?it/s]",
      "application/vnd.jupyter.widget-view+json": {
       "version_major": 2,
       "version_minor": 0,
       "model_id": "4c57c98dea734355ae6b5714363582e0"
      }
     },
     "metadata": {},
     "output_type": "display_data"
    },
    {
     "data": {
      "text/plain": "Generating embeddings:   0%|          | 0/160 [00:00<?, ?it/s]",
      "application/vnd.jupyter.widget-view+json": {
       "version_major": 2,
       "version_minor": 0,
       "model_id": "67a77c0519f2449ba462724eea3708d9"
      }
     },
     "metadata": {},
     "output_type": "display_data"
    }
   ],
   "source": [
    "from indexing.components.data_stores import get_bedrock_li_embedding_model, get_openai_li_embedding_model, ElasticSearchVectorStoreModule\n",
    "from inferences.components.models import get_openai_model\n",
    "from llama_index.core import Settings, VectorStoreIndex\n",
    "from llama_index.core.extractors import TitleExtractor, QuestionsAnsweredExtractor, SummaryExtractor\n",
    "\n",
    "Settings.llm = get_openai_model()\n",
    "Settings.embed_model = get_openai_li_embedding_model()\n",
    "\n",
    "transformations = []\n",
    "# summary_extractor = SummaryExtractor()\n",
    "# title_extractor = TitleExtractor(nodes=10)\n",
    "# qa_extractor = QuestionsAnsweredExtractor(questions=2)\n",
    "# transformations = [summary_extractor, title_extractor, qa_extractor]\n",
    "\n",
    "for key, documents in paper_documents.items():\n",
    "    vector_store_module = ElasticSearchVectorStoreModule(\n",
    "        index_name=INDEX_NAME,\n",
    "        embedding=get_openai_li_embedding_model()\n",
    "    )\n",
    "    ElasticSearchVectorStoreModule(index_name=INDEX_NAME).add_documents(documents, transformations=transformations)"
   ],
   "metadata": {
    "collapsed": false
   }
  },
  {
   "cell_type": "code",
   "execution_count": null,
   "outputs": [],
   "source": [],
   "metadata": {
    "collapsed": false
   }
  }
 ],
 "metadata": {
  "kernelspec": {
   "display_name": "Python 3",
   "language": "python",
   "name": "python3"
  },
  "language_info": {
   "codemirror_mode": {
    "name": "ipython",
    "version": 2
   },
   "file_extension": ".py",
   "mimetype": "text/x-python",
   "name": "python",
   "nbconvert_exporter": "python",
   "pygments_lexer": "ipython2",
   "version": "2.7.6"
  }
 },
 "nbformat": 4,
 "nbformat_minor": 0
}
